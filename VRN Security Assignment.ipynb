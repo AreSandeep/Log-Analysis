{
 "cells": [
  {
   "cell_type": "markdown",
   "id": "e557494f",
   "metadata": {},
   "source": [
    "### Importing Required Libraries"
   ]
  },
  {
   "cell_type": "code",
   "execution_count": 139,
   "id": "4d1cdb5b",
   "metadata": {},
   "outputs": [],
   "source": [
    "from bs4 import BeautifulSoup\n",
    "import re\n",
    "import requests #In this case it is not neccessary but when go through websites it required to request the content from websites..\n",
    "import pandas as pd"
   ]
  },
  {
   "cell_type": "markdown",
   "id": "50644250",
   "metadata": {},
   "source": [
    "### Reading the file using File Handling"
   ]
  },
  {
   "cell_type": "code",
   "execution_count": 320,
   "id": "af104454",
   "metadata": {},
   "outputs": [
    {
     "name": "stdout",
     "output_type": "stream",
     "text": [
      "192.168.1.1 - - [03/Dec/2024:10:12:34 +0000] \"GET /home HTTP/1.1\" 200 512\n",
      "203.0.113.5 - - [03/Dec/2024:10:12:35 +0000] \"POST /login HTTP/1.1\" 401 128 \"Invalid credentials\"\n",
      "10.0.0.2 - - [03/Dec/2024:10:12:36 +0000] \"GET /about HTTP/1.1\" 200 256\n",
      "192.168.1.1 - - [03/Dec/2024:10:12:37 +0000] \"GET /contact HTTP/1.1\" 200 312\n",
      "198.51.100.23 - - [03/Dec/2024:10:12:38 +0000] \"POST /register HTTP/1.1\" 200 128\n",
      "203.0.113.5 - - [03/Dec/2024:10:12:39 +0000] \"POST /login HTTP/1.1\" 401 128 \"Invalid credentials\"\n",
      "192.168.1.100 - - [03/Dec/2024:10:12:40 +0000] \"POST /login HTTP/1.1\" 401 128 \"Invalid credentials\"\n",
      "10.0.0.2 - - [03/Dec/2024:10:12:41 +0000] \"GET /dashboard HTTP/1.1\" 200 1024\n",
      "198.51.100.23 - - [03/Dec/2024:10:12:42 +0000] \"GET /about HTTP/1.1\" 200 256\n",
      "192.168.1.1 - - [03/Dec/2024:10:12:43 +0000] \"GET /dashboard HTTP/1.1\" 200 1024\n",
      "203.0.113.5 - - [03/Dec/2024:10:12:44 +0000] \"POST /login HTTP/1.1\" 401 128 \"Invalid credentials\"\n",
      "203.0.113.5 - - [03/Dec/2024:10:12:45 +0000] \"POST /login HTTP/1.1\" 401 128 \"Invalid credentials\"\n",
      "192.168.1.100 - - [03/Dec/2024:10:12:46 +0000] \"POST /login HTTP/1.1\" 401 128 \"Invalid credentials\"\n",
      "10.0.0.2 - - [03/Dec/2024:10:12:47 +0000] \"GET /profile HTTP/1.1\" 200 768\n",
      "192.168.1.1 - - [03/Dec/2024:10:12:48 +0000] \"GET /home HTTP/1.1\" 200 512\n",
      "198.51.100.23 - - [03/Dec/2024:10:12:49 +0000] \"POST /feedback HTTP/1.1\" 200 128\n",
      "203.0.113.5 - - [03/Dec/2024:10:12:50 +0000] \"POST /login HTTP/1.1\" 401 128 \"Invalid credentials\"\n",
      "192.168.1.1 - - [03/Dec/2024:10:12:51 +0000] \"GET /home HTTP/1.1\" 200 512\n",
      "198.51.100.23 - - [03/Dec/2024:10:12:52 +0000] \"GET /about HTTP/1.1\" 200 256\n",
      "203.0.113.5 - - [03/Dec/2024:10:12:53 +0000] \"POST /login HTTP/1.1\" 401 128 \"Invalid credentials\"\n",
      "192.168.1.100 - - [03/Dec/2024:10:12:54 +0000] \"POST /login HTTP/1.1\" 401 128 \"Invalid credentials\"\n",
      "10.0.0.2 - - [03/Dec/2024:10:12:55 +0000] \"GET /contact HTTP/1.1\" 200 512\n",
      "198.51.100.23 - - [03/Dec/2024:10:12:56 +0000] \"GET /home HTTP/1.1\" 200 512\n",
      "192.168.1.100 - - [03/Dec/2024:10:12:57 +0000] \"POST /login HTTP/1.1\" 401 128 \"Invalid credentials\"\n",
      "203.0.113.5 - - [03/Dec/2024:10:12:58 +0000] \"POST /login HTTP/1.1\" 401 128 \"Invalid credentials\"\n",
      "10.0.0.2 - - [03/Dec/2024:10:12:59 +0000] \"GET /dashboard HTTP/1.1\" 200 1024\n",
      "192.168.1.1 - - [03/Dec/2024:10:13:00 +0000] \"GET /about HTTP/1.1\" 200 256\n",
      "198.51.100.23 - - [03/Dec/2024:10:13:01 +0000] \"POST /register HTTP/1.1\" 200 128\n",
      "203.0.113.5 - - [03/Dec/2024:10:13:02 +0000] \"POST /login HTTP/1.1\" 401 128 \"Invalid credentials\"\n",
      "192.168.1.100 - - [03/Dec/2024:10:13:03 +0000] \"POST /login HTTP/1.1\" 401 128 \"Invalid credentials\"\n",
      "10.0.0.2 - - [03/Dec/2024:10:13:04 +0000] \"GET /profile HTTP/1.1\" 200 768\n",
      "198.51.100.23 - - [03/Dec/2024:10:13:05 +0000] \"GET /about HTTP/1.1\" 200 256\n",
      "192.168.1.1 - - [03/Dec/2024:10:13:06 +0000] \"GET /home HTTP/1.1\" 200 512\n",
      "198.51.100.23 - - [03/Dec/2024:10:13:07 +0000] \"POST /feedback HTTP/1.1\" 200 128\n"
     ]
    }
   ],
   "source": [
    "with open(r\"C:\\Users\\aresa\\OneDrive\\Desktop\\sample.log\",'r') as file:\n",
    "    file = file.read()\n",
    "    print(file)"
   ]
  },
  {
   "cell_type": "markdown",
   "id": "5417c058",
   "metadata": {},
   "source": [
    "### Using Regex Pattern To Find the IP Address"
   ]
  },
  {
   "cell_type": "code",
   "execution_count": 321,
   "id": "988fd9ef",
   "metadata": {},
   "outputs": [
    {
     "name": "stdout",
     "output_type": "stream",
     "text": [
      "34\n"
     ]
    }
   ],
   "source": [
    "ip = r'\\b(?:\\d{1,3}\\.){3}\\d{1,3}\\b' # ?:-for non-capturing group, meaning it groups the pattern \\d{1,3}\\. 3 groups\n",
    "ip_address = re.findall(ip, file)\n",
    "print(len(ip_address))"
   ]
  },
  {
   "cell_type": "code",
   "execution_count": 322,
   "id": "6a2ae4a4",
   "metadata": {},
   "outputs": [
    {
     "name": "stdout",
     "output_type": "stream",
     "text": [
      "['192.168.1.1', '203.0.113.5', '10.0.0.2', '192.168.1.1', '198.51.100.23', '203.0.113.5', '192.168.1.100', '10.0.0.2', '198.51.100.23', '192.168.1.1', '203.0.113.5', '203.0.113.5', '192.168.1.100', '10.0.0.2', '192.168.1.1', '198.51.100.23', '203.0.113.5', '192.168.1.1', '198.51.100.23', '203.0.113.5', '192.168.1.100', '10.0.0.2', '198.51.100.23', '192.168.1.100', '203.0.113.5', '10.0.0.2', '192.168.1.1', '198.51.100.23', '203.0.113.5', '192.168.1.100', '10.0.0.2', '198.51.100.23', '192.168.1.1', '198.51.100.23']\n"
     ]
    }
   ],
   "source": [
    "ip_addresses = []\n",
    "for i in ip_address:\n",
    "    ip_addresses.append(i)\n",
    "print(ip_addresses)"
   ]
  },
  {
   "cell_type": "code",
   "execution_count": 323,
   "id": "a5526b26",
   "metadata": {},
   "outputs": [
    {
     "data": {
      "text/plain": [
       "34"
      ]
     },
     "execution_count": 323,
     "metadata": {},
     "output_type": "execute_result"
    }
   ],
   "source": [
    "len(ip_addresses)"
   ]
  },
  {
   "cell_type": "markdown",
   "id": "d8fe573e",
   "metadata": {},
   "source": [
    "### Using Regex Pattern To Find the EndPoint"
   ]
  },
  {
   "cell_type": "code",
   "execution_count": 324,
   "id": "e0aebc38",
   "metadata": {},
   "outputs": [
    {
     "name": "stdout",
     "output_type": "stream",
     "text": [
      "['/home', '/login', '/about', '/contact', '/register', '/login', '/login', '/dashboard', '/about', '/dashboard', '/login', '/login', '/login', '/profile', '/home', '/feedback', '/login', '/home', '/about', '/login', '/login', '/contact', '/home', '/login', '/login', '/dashboard', '/about', '/register', '/login', '/login', '/profile', '/about', '/home', '/feedback']\n"
     ]
    }
   ],
   "source": [
    "point = r'[GET,POST]\\s(\\/\\S+)' \n",
    "\n",
    "'''it extracts which starts with the get or post and with spaces and /slashes using \n",
    " \\S+ particularly used for matching the slashes special characters instead w+ it will match only characters,numbers,_ etc\n",
    "so here \\S+ is more precise the results'''\n",
    "\n",
    "end_point = re.findall(point,file)\n",
    "print(end_point)"
   ]
  },
  {
   "cell_type": "code",
   "execution_count": 325,
   "id": "f8b6b90c",
   "metadata": {},
   "outputs": [
    {
     "data": {
      "text/plain": [
       "34"
      ]
     },
     "execution_count": 325,
     "metadata": {},
     "output_type": "execute_result"
    }
   ],
   "source": [
    "len(end_point)"
   ]
  },
  {
   "cell_type": "markdown",
   "id": "673b0070",
   "metadata": {},
   "source": [
    "### Using Regex Pattern To Find the RESPONSES"
   ]
  },
  {
   "cell_type": "code",
   "execution_count": 326,
   "id": "df8b0291",
   "metadata": {},
   "outputs": [
    {
     "name": "stdout",
     "output_type": "stream",
     "text": [
      "['200', '401', '200', '200', '200', '401', '401', '200', '200', '200', '401', '401', '401', '200', '200', '200', '401', '200', '200', '401', '401', '200', '200', '401', '401', '200', '200', '200', '401', '401', '200', '200', '200', '200']\n"
     ]
    }
   ],
   "source": [
    "responce = r'\\s(\\d+)\\s' #\\s for the spaces and d+ for digits \n",
    "responces = re.findall(responce,file)\n",
    "print(responces)"
   ]
  },
  {
   "cell_type": "code",
   "execution_count": 327,
   "id": "f9dd5942",
   "metadata": {},
   "outputs": [
    {
     "data": {
      "text/plain": [
       "34"
      ]
     },
     "execution_count": 327,
     "metadata": {},
     "output_type": "execute_result"
    }
   ],
   "source": [
    "len(responces)"
   ]
  },
  {
   "cell_type": "code",
   "execution_count": 328,
   "id": "a6378f6a",
   "metadata": {},
   "outputs": [],
   "source": [
    "df_columns = {'IP_Address':ip_addresses,\n",
    "             'end_point':end_point,\n",
    "             'responces':responces}"
   ]
  },
  {
   "cell_type": "code",
   "execution_count": 329,
   "id": "a5613098",
   "metadata": {},
   "outputs": [],
   "source": [
    "df = pd.DataFrame(df_columns)"
   ]
  },
  {
   "cell_type": "code",
   "execution_count": 330,
   "id": "1d0c76e0",
   "metadata": {},
   "outputs": [],
   "source": [
    "df.to_csv(r\"C:\\Users\\aresa\\log_analysis_results.csv\",index = False)"
   ]
  },
  {
   "cell_type": "code",
   "execution_count": 331,
   "id": "9c3915ff",
   "metadata": {},
   "outputs": [],
   "source": [
    "df= pd.read_csv(r\"C:\\Users\\aresa\\log_analysis_results.csv\")"
   ]
  },
  {
   "cell_type": "code",
   "execution_count": 332,
   "id": "9316c1d4",
   "metadata": {},
   "outputs": [
    {
     "data": {
      "text/html": [
       "<div>\n",
       "<style scoped>\n",
       "    .dataframe tbody tr th:only-of-type {\n",
       "        vertical-align: middle;\n",
       "    }\n",
       "\n",
       "    .dataframe tbody tr th {\n",
       "        vertical-align: top;\n",
       "    }\n",
       "\n",
       "    .dataframe thead th {\n",
       "        text-align: right;\n",
       "    }\n",
       "</style>\n",
       "<table border=\"1\" class=\"dataframe\">\n",
       "  <thead>\n",
       "    <tr style=\"text-align: right;\">\n",
       "      <th></th>\n",
       "      <th>IP_Address</th>\n",
       "      <th>end_point</th>\n",
       "      <th>responces</th>\n",
       "    </tr>\n",
       "  </thead>\n",
       "  <tbody>\n",
       "    <tr>\n",
       "      <th>0</th>\n",
       "      <td>192.168.1.1</td>\n",
       "      <td>/home</td>\n",
       "      <td>200</td>\n",
       "    </tr>\n",
       "    <tr>\n",
       "      <th>1</th>\n",
       "      <td>203.0.113.5</td>\n",
       "      <td>/login</td>\n",
       "      <td>401</td>\n",
       "    </tr>\n",
       "    <tr>\n",
       "      <th>2</th>\n",
       "      <td>10.0.0.2</td>\n",
       "      <td>/about</td>\n",
       "      <td>200</td>\n",
       "    </tr>\n",
       "    <tr>\n",
       "      <th>3</th>\n",
       "      <td>192.168.1.1</td>\n",
       "      <td>/contact</td>\n",
       "      <td>200</td>\n",
       "    </tr>\n",
       "    <tr>\n",
       "      <th>4</th>\n",
       "      <td>198.51.100.23</td>\n",
       "      <td>/register</td>\n",
       "      <td>200</td>\n",
       "    </tr>\n",
       "  </tbody>\n",
       "</table>\n",
       "</div>"
      ],
      "text/plain": [
       "      IP_Address  end_point  responces\n",
       "0    192.168.1.1      /home        200\n",
       "1    203.0.113.5     /login        401\n",
       "2       10.0.0.2     /about        200\n",
       "3    192.168.1.1   /contact        200\n",
       "4  198.51.100.23  /register        200"
      ]
     },
     "execution_count": 332,
     "metadata": {},
     "output_type": "execute_result"
    }
   ],
   "source": [
    "df.head()"
   ]
  },
  {
   "cell_type": "code",
   "execution_count": 333,
   "id": "0e9fe46f",
   "metadata": {},
   "outputs": [
    {
     "name": "stdout",
     "output_type": "stream",
     "text": [
      "<class 'pandas.core.frame.DataFrame'>\n",
      "RangeIndex: 34 entries, 0 to 33\n",
      "Data columns (total 3 columns):\n",
      " #   Column      Non-Null Count  Dtype \n",
      "---  ------      --------------  ----- \n",
      " 0   IP_Address  34 non-null     object\n",
      " 1   end_point   34 non-null     object\n",
      " 2   responces   34 non-null     int64 \n",
      "dtypes: int64(1), object(2)\n",
      "memory usage: 948.0+ bytes\n"
     ]
    }
   ],
   "source": [
    "df.info() # it gives about the dataframe and memory usage"
   ]
  },
  {
   "cell_type": "code",
   "execution_count": 334,
   "id": "9ea60562",
   "metadata": {},
   "outputs": [
    {
     "data": {
      "text/html": [
       "<div>\n",
       "<style scoped>\n",
       "    .dataframe tbody tr th:only-of-type {\n",
       "        vertical-align: middle;\n",
       "    }\n",
       "\n",
       "    .dataframe tbody tr th {\n",
       "        vertical-align: top;\n",
       "    }\n",
       "\n",
       "    .dataframe thead th {\n",
       "        text-align: right;\n",
       "    }\n",
       "</style>\n",
       "<table border=\"1\" class=\"dataframe\">\n",
       "  <thead>\n",
       "    <tr style=\"text-align: right;\">\n",
       "      <th></th>\n",
       "      <th>responces</th>\n",
       "    </tr>\n",
       "  </thead>\n",
       "  <tbody>\n",
       "    <tr>\n",
       "      <th>count</th>\n",
       "      <td>34.000000</td>\n",
       "    </tr>\n",
       "    <tr>\n",
       "      <th>mean</th>\n",
       "      <td>276.852941</td>\n",
       "    </tr>\n",
       "    <tr>\n",
       "      <th>std</th>\n",
       "      <td>99.147314</td>\n",
       "    </tr>\n",
       "    <tr>\n",
       "      <th>min</th>\n",
       "      <td>200.000000</td>\n",
       "    </tr>\n",
       "    <tr>\n",
       "      <th>25%</th>\n",
       "      <td>200.000000</td>\n",
       "    </tr>\n",
       "    <tr>\n",
       "      <th>50%</th>\n",
       "      <td>200.000000</td>\n",
       "    </tr>\n",
       "    <tr>\n",
       "      <th>75%</th>\n",
       "      <td>401.000000</td>\n",
       "    </tr>\n",
       "    <tr>\n",
       "      <th>max</th>\n",
       "      <td>401.000000</td>\n",
       "    </tr>\n",
       "  </tbody>\n",
       "</table>\n",
       "</div>"
      ],
      "text/plain": [
       "        responces\n",
       "count   34.000000\n",
       "mean   276.852941\n",
       "std     99.147314\n",
       "min    200.000000\n",
       "25%    200.000000\n",
       "50%    200.000000\n",
       "75%    401.000000\n",
       "max    401.000000"
      ]
     },
     "execution_count": 334,
     "metadata": {},
     "output_type": "execute_result"
    }
   ],
   "source": [
    "df.describe() # it is used for statistical ouput applied for only numerical features"
   ]
  },
  {
   "cell_type": "markdown",
   "id": "ce693041",
   "metadata": {},
   "source": [
    "## Requirements"
   ]
  },
  {
   "cell_type": "markdown",
   "id": "8b2f05fc",
   "metadata": {},
   "source": [
    "### 1.Count Requests per IP Address:"
   ]
  },
  {
   "cell_type": "code",
   "execution_count": 342,
   "id": "74ecb905",
   "metadata": {},
   "outputs": [],
   "source": [
    "requests_per_ip = df.groupby('IP_Address')['responces'].count().sort_values(ascending = False).reset_index()\n",
    "requests_per_ip.columns = ['IP_Address','Request Count']"
   ]
  },
  {
   "cell_type": "code",
   "execution_count": 343,
   "id": "503fd17d",
   "metadata": {},
   "outputs": [
    {
     "name": "stdout",
     "output_type": "stream",
     "text": [
      "   IP_Address  Request Count\n",
      "198.51.100.23              8\n",
      "  203.0.113.5              8\n",
      "  192.168.1.1              7\n",
      "     10.0.0.2              6\n",
      "192.168.1.100              5\n"
     ]
    }
   ],
   "source": [
    "print(requests_per_ip.to_string(index=False))"
   ]
  },
  {
   "cell_type": "markdown",
   "id": "e14060f8",
   "metadata": {},
   "source": [
    "### 2.Identify the Most Frequently Accessed Endpoint:"
   ]
  },
  {
   "cell_type": "code",
   "execution_count": 337,
   "id": "2704f8b6",
   "metadata": {
    "scrolled": true
   },
   "outputs": [
    {
     "name": "stdout",
     "output_type": "stream",
     "text": [
      "Most Frequently Accessed Endpoint:\n",
      "/login (Accessed 13 times)\n"
     ]
    }
   ],
   "source": [
    "new_df = df.groupby('end_point').count().sort_values(by = 'responces',ascending = False).reset_index().head(1)\n",
    "most_frequent_endpoint = new_df.loc[0, 'end_point']\n",
    "access_count = new_df.loc[0,'responces']\n",
    "print(f\"Most Frequently Accessed Endpoint:\\n{most_frequent_endpoint} (Accessed {access_count} times)\")"
   ]
  },
  {
   "cell_type": "code",
   "execution_count": 349,
   "id": "c1d5d450",
   "metadata": {},
   "outputs": [
    {
     "name": "stdout",
     "output_type": "stream",
     "text": [
      "Endpoint  Access Count\n",
      "  /login            13\n"
     ]
    }
   ],
   "source": [
    "most_accessed_endpoint = df.groupby('end_point')['responces'].count().sort_values(ascending=False).reset_index().head(1)\n",
    "most_accessed_endpoint.columns = ['Endpoint', 'Access Count']\n",
    "print(most_accessed_endpoint.to_string(index = False))"
   ]
  },
  {
   "cell_type": "markdown",
   "id": "4d4ec716",
   "metadata": {},
   "source": [
    "### 3.Detect Suspicious Activity:"
   ]
  },
  {
   "cell_type": "code",
   "execution_count": 344,
   "id": "a9515f04",
   "metadata": {},
   "outputs": [],
   "source": [
    "df['suspicious'] = df['responces'].apply(lambda x:'Invalid credentials' if x == 401 else x)"
   ]
  },
  {
   "cell_type": "code",
   "execution_count": 345,
   "id": "f70c5066",
   "metadata": {},
   "outputs": [],
   "source": [
    "df_filtered = df[df['suspicious'] == 'Invalid credentials'].reset_index()"
   ]
  },
  {
   "cell_type": "code",
   "execution_count": 346,
   "id": "4f9dac87",
   "metadata": {},
   "outputs": [],
   "source": [
    "suspicious_activity= df_filtered.groupby('IP_Address')['suspicious'].count().sort_values(ascending = False).reset_index()"
   ]
  },
  {
   "cell_type": "code",
   "execution_count": 353,
   "id": "f4f4b999",
   "metadata": {},
   "outputs": [
    {
     "name": "stdout",
     "output_type": "stream",
     "text": [
      "   IP_Address  Failed Login Attempts\n",
      "  203.0.113.5                      8\n",
      "192.168.1.100                      5\n"
     ]
    }
   ],
   "source": [
    "suspicious_activity.columns = ['IP_Address','Failed Login Attempts']\n",
    "print(suspicious_df.to_string(index = False))"
   ]
  },
  {
   "cell_type": "markdown",
   "id": "af0754b3",
   "metadata": {},
   "source": [
    "### Saving the results to a CSV file named log_analysis_results.csv"
   ]
  },
  {
   "cell_type": "code",
   "execution_count": 355,
   "id": "c6dad92b",
   "metadata": {},
   "outputs": [],
   "source": [
    "with open(r\"C:\\Users\\aresa\\log_analysis_results.csv\", 'w') as f:\n",
    "    requests_per_ip.to_csv(f, index=False)\n",
    "    most_accessed_endpoint.to_csv(f, index=False, mode='a')\n",
    "    suspicious_activity.to_csv(f, index=False, mode='a')"
   ]
  },
  {
   "cell_type": "code",
   "execution_count": null,
   "id": "085ace8f",
   "metadata": {},
   "outputs": [],
   "source": []
  }
 ],
 "metadata": {
  "kernelspec": {
   "display_name": "Python 3 (ipykernel)",
   "language": "python",
   "name": "python3"
  },
  "language_info": {
   "codemirror_mode": {
    "name": "ipython",
    "version": 3
   },
   "file_extension": ".py",
   "mimetype": "text/x-python",
   "name": "python",
   "nbconvert_exporter": "python",
   "pygments_lexer": "ipython3",
   "version": "3.11.5"
  }
 },
 "nbformat": 4,
 "nbformat_minor": 5
}
